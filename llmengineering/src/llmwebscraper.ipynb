{
 "cells": [
  {
   "cell_type": "code",
   "execution_count": null,
   "id": "bc4f5bb2",
   "metadata": {},
   "outputs": [],
   "source": [
    "# Import required libraries for web scraping, environment management, and OpenAI API usage.\n",
    "import os\n",
    "import requests\n",
    "import json\n",
    "from typing import List\n",
    "from dotenv import load_dotenv\n",
    "from bs4 import BeautifulSoup\n",
    "from IPython.display import Markdown, display, update_display\n",
    "from openai import OpenAI"
   ]
  },
  {
   "cell_type": "code",
   "execution_count": null,
   "id": "1ce495e4",
   "metadata": {},
   "outputs": [],
   "source": [
    "# Load environment variables, check API key, and initialize OpenAI client and model.\n",
    "# Initialize and constants\n",
    "\n",
    "load_dotenv(override=True)\n",
    "api_key = os.getenv('OPENAI_API_KEY')\n",
    "\n",
    "if api_key and api_key.startswith('sk-proj-') and len(api_key)>10:\n",
    "    print(\"API key looks good so far\")\n",
    "else:\n",
    "    print(\"There might be a problem with your API key? Please visit the troubleshooting notebook!\")\n",
    "    \n",
    "MODEL = 'gpt-4o-mini'\n",
    "openai = OpenAI()"
   ]
  },
  {
   "cell_type": "code",
   "execution_count": null,
   "id": "d3e9bf61",
   "metadata": {},
   "outputs": [],
   "source": [
    "# Define headers for requests and a Website class to scrape and parse web content.\n",
    "\n",
    "headers = {\n",
    " \"User-Agent\": \"Mozilla/5.0 (Windows NT 10.0; Win64; x64) AppleWebKit/537.36 (KHTML, like Gecko) Chrome/117.0.0.0 Safari/537.36\"\n",
    "}\n",
    "\n",
    "class Website:\n",
    "    \"\"\"\n",
    "    A utility class to represent a Website that we have scraped, now with links\n",
    "    \"\"\"\n",
    "\n",
    "    def __init__(self, url):\n",
    "        self.url = url\n",
    "        response = requests.get(url, headers=headers)\n",
    "        self.body = response.content\n",
    "        soup = BeautifulSoup(self.body, 'html.parser')\n",
    "        self.title = soup.title.string if soup.title else \"No title found\"\n",
    "        if soup.body:\n",
    "            for irrelevant in soup.body([\"script\", \"style\", \"img\", \"input\"]):\n",
    "                irrelevant.decompose()\n",
    "            self.text = soup.body.get_text(separator=\"\\n\", strip=True)\n",
    "        else:\n",
    "            self.text = \"\"\n",
    "        links = [link.get('href') for link in soup.find_all('a')]\n",
    "        self.links = [link for link in links if link]\n",
    "\n",
    "    def get_contents(self):\n",
    "        return f\"Webpage Title:\\n{self.title}\\nWebpage Contents:\\n{self.text}\\n\\n\""
   ]
  },
  {
   "cell_type": "code",
   "execution_count": null,
   "id": "288e0875",
   "metadata": {},
   "outputs": [],
   "source": [
    "# Create a Website object for Mister Car Wash and display its links.\n",
    "carwash = Website(\"https://mistercarwash.com/\")\n",
    "carwash.links"
   ]
  },
  {
   "cell_type": "code",
   "execution_count": null,
   "id": "c3b4a6a9",
   "metadata": {},
   "outputs": [],
   "source": [
    "# Define the system prompt for extracting relevant links for a company brochure.\n",
    "link_system_prompt = \"You are provided with a list of links found on a webpage. \\\n",
    "You are able to decide which of the links would be most relevant to include in a brochure about the company, \\\n",
    "such as links to an About page, or a Company page, or Careers/Jobs pages.\\n\"\n",
    "link_system_prompt += \"You should respond in JSON as in this example:\"\n",
    "link_system_prompt += \"\"\"\n",
    "{\n",
    "    \"links\": [\n",
    "        {\"type\": \"about page\", \"url\": \"https://full.url/goes/here/about\"},\n",
    "        {\"type\": \"careers page\": \"url\": \"https://another.full.url/careers\"}\n",
    "    ]\n",
    "}\n",
    "\"\"\""
   ]
  },
  {
   "cell_type": "code",
   "execution_count": null,
   "id": "41c640be",
   "metadata": {},
   "outputs": [],
   "source": [
    "# Function to generate a user prompt for selecting relevant links from a website.\n",
    "def get_links_user_prompt(website):\n",
    "    user_prompt = f\"Here is the list of links on the website of {website.url} - \"\n",
    "    user_prompt += \"please decide which of these are relevant web links for a brochure about the company, respond with the full https URL in JSON format. \\\n",
    "Do not include Terms of Service, Privacy, email links.\\n\"\n",
    "    user_prompt += \"Links (some might be relative links):\\n\"\n",
    "    user_prompt += \"\\n\".join(website.links)\n",
    "    return user_prompt"
   ]
  },
  {
   "cell_type": "code",
   "execution_count": null,
   "id": "904c46ec",
   "metadata": {},
   "outputs": [],
   "source": [
    "# Print the generated user prompt for the Mister Car Wash website.\n",
    "print(get_links_user_prompt(carwash))"
   ]
  },
  {
   "cell_type": "code",
   "execution_count": null,
   "id": "e96daae0",
   "metadata": {},
   "outputs": [],
   "source": [
    "# Function to extract relevant links from a website using OpenAI's chat completion API.\n",
    "def get_links(url):\n",
    "    website = Website(url)\n",
    "    response = openai.chat.completions.create(\n",
    "        model=MODEL,\n",
    "        messages=[\n",
    "            {\"role\": \"system\", \"content\": link_system_prompt},\n",
    "            {\"role\": \"user\", \"content\": get_links_user_prompt(website)}\n",
    "      ],\n",
    "        response_format={\"type\": \"json_object\"}\n",
    "    )\n",
    "    result = response.choices[0].message.content\n",
    "    return json.loads(result)"
   ]
  },
  {
   "cell_type": "code",
   "execution_count": null,
   "id": "4f5e4ef1",
   "metadata": {},
   "outputs": [],
   "source": [
    "# Extract and display relevant links for Mister Car Wash using OpenAI.\n",
    "get_links(\"https://mistercarwash.com/\")"
   ]
  },
  {
   "cell_type": "code",
   "execution_count": null,
   "id": "502ecb80",
   "metadata": {},
   "outputs": [],
   "source": [
    "# Function to get all details from a website and its relevant links for brochure creation.\n",
    "def get_all_details(url):\n",
    "    result = \"Landing page:\\n\"\n",
    "    result += Website(url).get_contents()\n",
    "    links = get_links(url)\n",
    "    print(\"Found links:\", links)\n",
    "    for link in links[\"links\"]:\n",
    "        result += f\"\\n\\n{link['type']}\\n\"\n",
    "        result += Website(link[\"url\"]).get_contents()\n",
    "    return result"
   ]
  },
  {
   "cell_type": "code",
   "execution_count": null,
   "id": "e7a7e4c8",
   "metadata": {},
   "outputs": [],
   "source": [
    "# Print all details from Mister Car Wash website and its relevant links for brochure creation.\n",
    "print(get_all_details(\"https://mistercarwash.com/\"))"
   ]
  },
  {
   "cell_type": "code",
   "execution_count": null,
   "id": "e134dd48",
   "metadata": {},
   "outputs": [],
   "source": [
    "# Define the system prompt for creating a humorous and informative company brochure.\n",
    "system_prompt = \"You are an assistant that analyzes the contents of several relevant pages from a company website \\\n",
    "  and creates a short humorous, entertaining, jokey brochure about the company for prospective customers, investors and recruits. Respond in markdown.\\\n",
    "  Include details of company culture, customers and careers/jobs if you have the information.\""
   ]
  },
  {
   "cell_type": "code",
   "execution_count": null,
   "id": "877e326b",
   "metadata": {},
   "outputs": [],
   "source": [
    "# Function to generate a user prompt for brochure creation using company and page details.\n",
    "def get_brochure_user_prompt(company_name, url):\n",
    "    user_prompt = f\"You are looking at a company called: {company_name}\\n\"\n",
    "    user_prompt += f\"Here are the contents of its landing page and other relevant pages; use this information to build a short brochure of the company in markdown.\\n\"\n",
    "    user_prompt += get_all_details(url)\n",
    "    user_prompt = user_prompt[:5_000] # Truncate if more than 5,000 characters\n",
    "    return user_prompt"
   ]
  },
  {
   "cell_type": "code",
   "execution_count": null,
   "id": "b52fa786",
   "metadata": {},
   "outputs": [],
   "source": [
    "# Generate and display the user prompt for brochure creation for Mister Car Wash.\n",
    "get_brochure_user_prompt(\"Mister Car Wash\", \"https://mistercarwash.com/\")"
   ]
  },
  {
   "cell_type": "code",
   "execution_count": null,
   "id": "5500d67e",
   "metadata": {},
   "outputs": [],
   "source": [
    "# Function to create a company brochure using OpenAI and display it as markdown.\n",
    "def create_brochure(company_name, url):\n",
    "    response = openai.chat.completions.create(\n",
    "        model=MODEL,\n",
    "        messages=[\n",
    "            {\"role\": \"system\", \"content\": system_prompt},\n",
    "            {\"role\": \"user\", \"content\": get_brochure_user_prompt(company_name, url)}\n",
    "          ],\n",
    "    )\n",
    "    result = response.choices[0].message.content\n",
    "    display(Markdown(result))"
   ]
  },
  {
   "cell_type": "code",
   "execution_count": null,
   "id": "d947781d",
   "metadata": {},
   "outputs": [],
   "source": [
    "# Generate and display a brochure for Mister Car Wash using the create_brochure function.\n",
    "create_brochure(\"Mister Car Wash\", \"https://mistercarwash.com/\")"
   ]
  },
  {
   "cell_type": "code",
   "execution_count": null,
   "id": "06bd8bdb",
   "metadata": {},
   "outputs": [],
   "source": [
    "# Function to stream a company brochure using OpenAI and update the markdown display in real time.\n",
    "def stream_brochure(company_name, url):\n",
    "    stream = openai.chat.completions.create(\n",
    "        model=MODEL,\n",
    "        messages=[\n",
    "            {\"role\": \"system\", \"content\": system_prompt},\n",
    "            {\"role\": \"user\", \"content\": get_brochure_user_prompt(company_name, url)}\n",
    "          ],\n",
    "        stream=True\n",
    "    )\n",
    "    \n",
    "    response = \"\"\n",
    "    display_handle = display(Markdown(\"\"), display_id=True)\n",
    "    for chunk in stream:\n",
    "        response += chunk.choices[0].delta.content or ''\n",
    "        response = response.replace(\"```\",\"\").replace(\"markdown\", \"\")\n",
    "        update_display(Markdown(response), display_id=display_handle.display_id)"
   ]
  },
  {
   "cell_type": "code",
   "execution_count": null,
   "id": "7397fc8f",
   "metadata": {},
   "outputs": [],
   "source": [
    "# Stream and display a brochure for HuggingFace using the stream_brochure function.\n",
    "stream_brochure(\"HuggingFace\", \"https://huggingface.co\")"
   ]
  }
 ],
 "metadata": {
  "kernelspec": {
   "display_name": ".venv",
   "language": "python",
   "name": "python3"
  },
  "language_info": {
   "codemirror_mode": {
    "name": "ipython",
    "version": 3
   },
   "file_extension": ".py",
   "mimetype": "text/x-python",
   "name": "python",
   "nbconvert_exporter": "python",
   "pygments_lexer": "ipython3",
   "version": "3.13.4"
  }
 },
 "nbformat": 4,
 "nbformat_minor": 5
}
