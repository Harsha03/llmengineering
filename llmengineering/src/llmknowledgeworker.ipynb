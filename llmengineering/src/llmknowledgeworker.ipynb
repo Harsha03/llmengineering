{
 "cells": [
  {
   "cell_type": "code",
   "execution_count": null,
   "id": "de230762",
   "metadata": {},
   "outputs": [],
   "source": [
    "# Import required libraries for file operations, environment management, and UI.\n",
    "import os\n",
    "import glob\n",
    "from dotenv import load_dotenv\n",
    "import gradio as gr"
   ]
  },
  {
   "cell_type": "code",
   "execution_count": null,
   "id": "77fc645b",
   "metadata": {},
   "outputs": [],
   "source": [
    "# Import LangChain modules for document loading, splitting, embeddings, and conversational AI.\n",
    "from langchain.document_loaders import DirectoryLoader, TextLoader\n",
    "from langchain.text_splitter import CharacterTextSplitter\n",
    "from langchain.schema import Document\n",
    "from langchain_openai import OpenAIEmbeddings, ChatOpenAI\n",
    "from langchain_chroma import Chroma\n",
    "import numpy as np  # For numerical operations\n",
    "from sklearn.manifold import TSNE  # For dimensionality reduction\n",
    "import plotly.graph_objects as go  # For visualization\n",
    "from langchain.memory import ConversationBufferMemory\n",
    "from langchain.chains import ConversationalRetrievalChain"
   ]
  },
  {
   "cell_type": "code",
   "execution_count": null,
   "id": "cdb03895",
   "metadata": {},
   "outputs": [],
   "source": [
    "# Set the LLM model and vector database name.\n",
    "MODEL = \"gpt-4o-mini\"\n",
    "db_name = \"vector_db\""
   ]
  },
  {
   "cell_type": "code",
   "execution_count": null,
   "id": "f1693619",
   "metadata": {},
   "outputs": [],
   "source": [
    "# Load environment variables and set OpenAI API key.\n",
    "load_dotenv(override=True)\n",
    "os.environ['OPENAI_API_KEY'] = os.getenv('OPENAI_API_KEY', 'your-key-if-not-using-env')"
   ]
  },
  {
   "cell_type": "code",
   "execution_count": null,
   "id": "35030788",
   "metadata": {},
   "outputs": [],
   "source": [
    "# Load markdown documents from the knowledge base folders and assign metadata.\n",
    "folders = glob.glob(\"knowledge-base/*\")\n",
    "text_loader_kwargs = {'encoding': 'utf-8'}\n",
    "documents = []\n",
    "for folder in folders:\n",
    "    doc_type = os.path.basename(folder)  # Get document type from folder name\n",
    "    loader = DirectoryLoader(folder, glob=\"**/*.md\", loader_cls=TextLoader, loader_kwargs=text_loader_kwargs)\n",
    "    folder_docs = loader.load()\n",
    "    for doc in folder_docs:\n",
    "        doc.metadata[\"doc_type\"] = doc_type  # Assign document type metadata\n",
    "        documents.append(doc)"
   ]
  },
  {
   "cell_type": "code",
   "execution_count": null,
   "id": "f01aa204",
   "metadata": {},
   "outputs": [],
   "source": [
    "# Split documents into manageable chunks for embedding and retrieval.\n",
    "text_splitter = CharacterTextSplitter(chunk_size=1000, chunk_overlap=200)\n",
    "chunks = text_splitter.split_documents(documents)"
   ]
  },
  {
   "cell_type": "code",
   "execution_count": null,
   "id": "d9810690",
   "metadata": {},
   "outputs": [],
   "source": [
    "# Check the number of document chunks created.\n",
    "len(chunks)"
   ]
  },
  {
   "cell_type": "code",
   "execution_count": null,
   "id": "0eb5e7f6",
   "metadata": {},
   "outputs": [],
   "source": [
    "# Extract and display the types of documents found in the chunks.\n",
    "doc_types = set(chunk.metadata['doc_type'] for chunk in chunks)\n",
    "print(f\"Document types found: {', '.join(doc_types)}\")"
   ]
  },
  {
   "cell_type": "code",
   "execution_count": null,
   "id": "ace84957",
   "metadata": {},
   "outputs": [],
   "source": [
    "# Create embeddings and build the vectorstore. Delete existing collection if present.\n",
    "embeddings = OpenAIEmbeddings()\n",
    "if os.path.exists(db_name):\n",
    "    Chroma(persist_directory=db_name, embedding_function=embeddings).delete_collection()\n",
    "vectorstore = Chroma.from_documents(documents=chunks, embedding=embeddings, persist_directory=db_name)\n",
    "print(f\"Vectorstore created with {vectorstore._collection.count()} documents\")"
   ]
  },
  {
   "cell_type": "code",
   "execution_count": null,
   "id": "85022a38",
   "metadata": {},
   "outputs": [],
   "source": [
    "# Inspect the dimensionality of the vector embeddings.\n",
    "collection = vectorstore._collection\n",
    "sample_embedding = collection.get(limit=1, include=[\"embeddings\"])[\"embeddings\"][0]\n",
    "dimensions = len(sample_embedding)\n",
    "print(f\"The vectors have {dimensions:,} dimensions\")"
   ]
  },
  {
   "cell_type": "code",
   "execution_count": null,
   "id": "5e729eea",
   "metadata": {},
   "outputs": [],
   "source": [
    "# Set up the conversational retrieval chain with LLM, memory, and retriever.\n",
    "llm = ChatOpenAI(temperature=0.7, model_name=MODEL)\n",
    "memory = ConversationBufferMemory(memory_key='chat_history', return_messages=True)\n",
    "retriever = vectorstore.as_retriever()\n",
    "conversation_chain = ConversationalRetrievalChain.from_llm(llm=llm, retriever=retriever, memory=memory)"
   ]
  },
  {
   "cell_type": "code",
   "execution_count": null,
   "id": "e37daebc",
   "metadata": {},
   "outputs": [],
   "source": [
    "# Run a sample query through the conversation chain and display the answer.\n",
    "query = \"Can you describe Insurellm in a few sentences\"\n",
    "result = conversation_chain.invoke({\"question\":query})\n",
    "print(result[\"answer\"])"
   ]
  },
  {
   "cell_type": "code",
   "execution_count": null,
   "id": "36060549",
   "metadata": {},
   "outputs": [],
   "source": [
    "# Re-initialize memory and conversational chain if needed.\n",
    "memory = ConversationBufferMemory(memory_key='chat_history', return_messages=True)\n",
    "conversation_chain = ConversationalRetrievalChain.from_llm(llm=llm, retriever=retriever, memory=memory)"
   ]
  },
  {
   "cell_type": "code",
   "execution_count": null,
   "id": "8d417887",
   "metadata": {},
   "outputs": [],
   "source": [
    "# Define the chat function for Gradio interface.\n",
    "def chat(message, history):\n",
    "    result = conversation_chain.invoke({\"question\": message})\n",
    "    return result[\"answer\"]"
   ]
  },
  {
   "cell_type": "code",
   "execution_count": null,
   "id": "364d4a0a",
   "metadata": {},
   "outputs": [],
   "source": [
    "# Launch the Gradio chat interface in the browser.\n",
    "view = gr.ChatInterface(chat, type=\"messages\").launch(inbrowser=True)"
   ]
  }
 ],
 "metadata": {
  "language_info": {
   "name": "python"
  }
 },
 "nbformat": 4,
 "nbformat_minor": 5
}
